{
 "cells": [
  {
   "cell_type": "markdown",
   "id": "9610d297",
   "metadata": {},
   "source": [
    "# Distributed Computing Inspired by Biology\n",
    "\n",
    "This notebook showcases the different bio-inspired algorithms discussed in\n",
    "> Függer, M., Nowak, T., Thuillier, K. (2025). Distributed Computing Inspired by Biology. Seminars in Cell and Developmental Biology.\n",
    "\n",
    "It requires the *Python 3* packages: `numpy`, `networkx`, `scipy`, `mobspy`, `ipykernel`, and `ipywidgets`.\n",
    "\n",
    "It can also be executed online (*without any installation*), using *Binder* [![Binder](https://mybinder.org/badge_logo.svg)](https://mybinder.org/v2/gh/BioDisCo/dc_bio/HEAD)."
   ]
  },
  {
   "cell_type": "code",
   "execution_count": null,
   "id": "883d08b7",
   "metadata": {},
   "outputs": [],
   "source": [
    "import numpy as np\n",
    "\n",
    "from src.notebook_utils import *  # noqa: F403\n"
   ]
  },
  {
   "cell_type": "markdown",
   "id": "9c8e4a0a",
   "metadata": {},
   "source": [
    "## Hodkin-Huxley Neuron Model"
   ]
  },
  {
   "cell_type": "code",
   "execution_count": null,
   "id": "208211aa",
   "metadata": {},
   "outputs": [],
   "source": [
    "interact_hodgkin_huxley(duration=200, steps=500)  # noqa: F405"
   ]
  },
  {
   "cell_type": "markdown",
   "id": "0d035323",
   "metadata": {},
   "source": [
    "## Differentiable Loss Functions: Gradient Descent"
   ]
  },
  {
   "cell_type": "code",
   "execution_count": null,
   "id": "31c00ec5",
   "metadata": {},
   "outputs": [],
   "source": [
    "def f(x: float, y: float) -> float:  # noqa: D103\n",
    "    return np.sin(np.pi * x) * np.cos(np.pi * y) + (x**2 + y**2)\n",
    "\n",
    "\n",
    "def df_dx(x: float, y: float) -> float:  # noqa: D103\n",
    "    return np.pi * np.cos(np.pi * x) * np.cos(np.pi * y) + 2 * x\n",
    "\n",
    "\n",
    "def df_dy(x: float, y: float) -> float:  # noqa: D103\n",
    "    return -np.pi * np.sin(np.pi * x) * np.sin(np.pi * y) + 2 * y"
   ]
  },
  {
   "cell_type": "code",
   "execution_count": null,
   "id": "d6a8f0bf",
   "metadata": {},
   "outputs": [],
   "source": [
    "interact_gradient_descent(f, df_dx, df_dy)  # noqa: F405"
   ]
  },
  {
   "cell_type": "markdown",
   "id": "3dc6c551",
   "metadata": {},
   "source": [
    "## General Loss Functions"
   ]
  },
  {
   "cell_type": "code",
   "execution_count": null,
   "id": "35bcd81e",
   "metadata": {},
   "outputs": [],
   "source": [
    "def f(x: float, y: float) -> float:  # noqa: D103\n",
    "    return np.sin(np.pi * x) * np.cos(np.pi * y) + (x**2 + y**2)"
   ]
  },
  {
   "cell_type": "markdown",
   "id": "40ba9d68",
   "metadata": {},
   "source": [
    "### Differential Evolution"
   ]
  },
  {
   "cell_type": "code",
   "execution_count": null,
   "id": "b6a73a18",
   "metadata": {},
   "outputs": [],
   "source": [
    "interact_differential_evolution(f)  # noqa: F405"
   ]
  },
  {
   "cell_type": "markdown",
   "id": "15bd7817",
   "metadata": {},
   "source": [
    "### Particle Swarm"
   ]
  },
  {
   "cell_type": "code",
   "execution_count": null,
   "id": "d2c1c7e9",
   "metadata": {},
   "outputs": [],
   "source": [
    "interact_particle_swarm(f)  # noqa: F405"
   ]
  },
  {
   "cell_type": "markdown",
   "id": "1a546cdc",
   "metadata": {},
   "source": [
    "## Consensus\n",
    "\n",
    "### Graphs Generation"
   ]
  },
  {
   "cell_type": "code",
   "execution_count": null,
   "id": "51c4872c",
   "metadata": {},
   "outputs": [],
   "source": [
    "graphs, sequence = interact_consensus_graphs()  # noqa: F405"
   ]
  },
  {
   "cell_type": "markdown",
   "id": "5b8bca40",
   "metadata": {},
   "source": [
    "### 1D Methods\n",
    "\n",
    "#### Equal-weight"
   ]
  },
  {
   "cell_type": "code",
   "execution_count": null,
   "id": "18ab2566",
   "metadata": {},
   "outputs": [],
   "source": [
    "interact_consensus_1D(sequence, \"mean\")  # noqa: F405"
   ]
  },
  {
   "cell_type": "markdown",
   "id": "b9dcf56a",
   "metadata": {},
   "source": [
    "#### Midpoint"
   ]
  },
  {
   "cell_type": "code",
   "execution_count": null,
   "id": "11a5661e",
   "metadata": {},
   "outputs": [],
   "source": [
    "interact_consensus_1D(sequence, \"midpoint\")  # noqa: F405"
   ]
  },
  {
   "cell_type": "markdown",
   "id": "b5abc1ae",
   "metadata": {},
   "source": [
    "### 2D Methods: MidExtreme vs ApproachExtreme\n",
    "\n",
    "#### MidExtreme"
   ]
  },
  {
   "cell_type": "code",
   "execution_count": null,
   "id": "a227fbd5",
   "metadata": {},
   "outputs": [],
   "source": [
    "interact_consensus_2D(sequence, \"midextreme\")  # noqa: F405"
   ]
  },
  {
   "cell_type": "markdown",
   "id": "099a8c58",
   "metadata": {},
   "source": [
    "#### ApproachExtreme"
   ]
  },
  {
   "cell_type": "code",
   "execution_count": null,
   "id": "5030e118",
   "metadata": {},
   "outputs": [],
   "source": [
    "interact_consensus_2D(sequence, \"approachextreme\")  # noqa: F405"
   ]
  },
  {
   "cell_type": "markdown",
   "id": "f203a129",
   "metadata": {},
   "source": [
    "## Chemical Reaction Networks\n",
    "\n",
    "### ABC Model"
   ]
  },
  {
   "cell_type": "code",
   "execution_count": null,
   "id": "4bd03c20",
   "metadata": {},
   "outputs": [],
   "source": [
    "interact_crn_abc(duration=10)  # noqa: F405"
   ]
  },
  {
   "cell_type": "markdown",
   "id": "e35f4080",
   "metadata": {},
   "source": [
    "### Annihilation Model"
   ]
  },
  {
   "cell_type": "code",
   "execution_count": null,
   "id": "ba6bd6a4",
   "metadata": {},
   "outputs": [],
   "source": [
    "interact_crn_mutual_annihilation(duration=10)  # noqa: F405"
   ]
  },
  {
   "cell_type": "markdown",
   "id": "70540911",
   "metadata": {},
   "source": [
    "## Maximal Independent Set - MIS"
   ]
  },
  {
   "cell_type": "code",
   "execution_count": null,
   "id": "0ae8818e",
   "metadata": {},
   "outputs": [],
   "source": [
    "interact_maximal_independent_set()  # noqa: F405"
   ]
  },
  {
   "cell_type": "code",
   "execution_count": null,
   "id": "44aa3c20",
   "metadata": {},
   "outputs": [],
   "source": []
  }
 ],
 "metadata": {
  "kernelspec": {
   "display_name": ".venv",
   "language": "python",
   "name": "python3"
  },
  "language_info": {
   "codemirror_mode": {
    "name": "ipython",
    "version": 3
   },
   "file_extension": ".py",
   "mimetype": "text/x-python",
   "name": "python",
   "nbconvert_exporter": "python",
   "pygments_lexer": "ipython3",
   "version": "3.12.3"
  }
 },
 "nbformat": 4,
 "nbformat_minor": 5
}
